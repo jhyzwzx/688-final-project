{
 "cells": [
  {
   "cell_type": "markdown",
   "metadata": {},
   "source": [
    "# Traffic Predict System\n",
    "\n",
    "## Introduction\n",
    "\n",
    "In this project, we try to use some traffic data to predict the traffic jam in a certain area. In order to predict such phenomenon, we need to build a model based on some data that we can collect. The first data we came up with was the real time traffic count in the area. As we searching for the real time traffic data, we realize that it's almost impossible to find any data in real time. Most of the free data, of the traffic count, is in statical format or historical and aggregated. \n",
    "\n",
    "### Goal\n",
    "Specifically, our goal is to predict the approximate alert count(or *alert level*) given a set of hourly features as input. In order to do that, we extract several features from the raw data we crawled, and feed them into a CNN model with PyTorch. We make predictions with this model and get a satisfying accurancy. Finally we present our results with a visulization system using D3.js \n",
    "\n",
    "## Data Source - Waze\n",
    "Then, the waze.com came in to our sight.Waze is GPS navigation software that works on smartphones and tablets with GPS support. It provides turn-by-turn navigation information and user-submitted travel times and route details, while downloading location-dependent information over a mobile telephone network. Waze describes its app as a community-driven GPS navigation app. It encourages users to post anything that would slow down the traffic or anything need to be care about on the map.Also this app will show any active drivers/users on the map. If we can collect it，then we can start our project. Luckily, besides the app, WAZE also provides a web live map, which shows exactually the same thing as the app shows. By collecting data on the web live map,we get the initial data we need.\n",
    "\n",
    "### The web live map\n",
    "![live map](https://i.imgur.com/aDqi8JK.jpg \"Live map\")\n",
    "\n",
    "### List of data collected from waze\n",
    "#### Alert\n",
    "Alert is a data point submitted by the active users. An alert may belong to different category, For example construction site, car accident or even \"Police Nearby\". We believe that the more alerts on the map, the worse the traffic is.\n",
    "#### User Location\n",
    "We also collect the active users on the map. We use the user lcoation to simulate the traffic density on the map.\n",
    "#### User Speed\n",
    "Besides users'location, we also collect the users' speed on the road.\n",
    "\n",
    "### Problem\n",
    "The only problem is that the data point is too sparse, there should be far more traffic thant it shows on the app. So in order to make the data less sparse, we need some method to aggregate our data. What we find is to use the census tracts to aggregrate our data.\n",
    "\n",
    "### Census Tracts\n",
    "Census Tracts are small, relatively permanent statistical subdivisions of a county or equivalent entity that are updated by local participants prior to each decennial census as part of the Census Bureau's Participant Statistical Areas Program.  The Census Bureau delineates census tracts in situations where no local participant existed or where state, local, or tribal governments declined to participate. The primary purpose of census tracts is to provide a stable set of geographic units for the presentation of statistical data. Census tracts generally have a population size between 1,200 and 8,000 people, with an optimum size of 4,000 people. Census tract boundaries generally follow visible and identifiable features.  They may follow nonvisible legal boundaries, such as minor civil division (MCD) or incorporated place boundaries in some states and situations, to allow for census-tract-to-governmental-unit relationships where the governmental boundaries tend to remain unchanged between censuses.  \n",
    "\n",
    "### Demographic Data\n",
    "We also collect a bunch of demographic data associate with each census tracts, for example the resident count, the average commuter time to work place of residents and the area of the census tracts. We believe it can help our model to get better correctness.\n",
    "\n",
    "### Weather Data\n",
    "It is common sense that the weather does affect the traffic. So we also collect it as the input variable of our model. Sometimes, a city has mulitiple weather stations, so we try to mapping our census tracts with the weather data from the nearest weather station. "
   ]
  },
  {
   "cell_type": "markdown",
   "metadata": {},
   "source": [
    "## Practical Datascience Trainer\n",
    "Here we will first load data, which is crawled from Waze"
   ]
  },
  {
   "cell_type": "code",
   "execution_count": 1,
   "metadata": {},
   "outputs": [
    {
     "data": {
      "text/plain": [
       "'0.2.0_4'"
      ]
     },
     "execution_count": 1,
     "metadata": {},
     "output_type": "execute_result"
    }
   ],
   "source": [
    "# import modules\n",
    "import torch\n",
    "import torch.nn as nn\n",
    "from torch.utils.data import DataLoader, Dataset, TensorDataset\n",
    "from torch.optim.lr_scheduler import StepLR\n",
    "from torchvision import datasets, transforms\n",
    "from torch.nn.utils import clip_grad_norm\n",
    "\n",
    "from logger import ModelLogger, getLogger\n",
    "from meter import AverageMeter\n",
    "from helper import to_tensor, to_variable, BaseTrainer\n",
    "import helper\n",
    "\n",
    "import time\n",
    "import pandas as pd\n",
    "import numpy as np\n",
    "\n",
    "import matplotlib.pyplot as plt\n",
    "%matplotlib inline\n",
    "plt.style.use('ggplot')\n",
    "log = getLogger()\n",
    "torch.__version__"
   ]
  },
  {
   "cell_type": "markdown",
   "metadata": {},
   "source": [
    "### Args\n",
    "\n",
    "In this part, we provide a clean way to tune hyperparameters. \n",
    "- first part is related with training process.\n",
    "- if you want to load pretrained model, set is_load to True.\n",
    "- It contains 3 mode: 'train', 'infer', 'test'"
   ]
  },
  {
   "cell_type": "code",
   "execution_count": 30,
   "metadata": {},
   "outputs": [],
   "source": [
    "args = {}\n",
    "args['epochs'] = 5\n",
    "args['max_iter'] = -1\n",
    "args['val_frac'] = 0.1\n",
    "args['batch_size'] = 16\n",
    "args['val_batch_size'] = 32\n",
    "args['test_batch_size'] = 1\n",
    "args['num_workers'] = 0\n",
    "args['clip'] = 0.05\n",
    "args['lr'] = 0.001\n",
    "args['wd'] = 2e-5\n",
    "args['shuffle'] = True\n",
    "\n",
    "args['display_interval'] = 100\n",
    "args['calc_acc_interval'] = 1\n",
    "args['val_interval'] = 1\n",
    "args['val_display_interval'] = 50\n",
    "\n",
    "args['test_interval'] = 1000\n",
    "args['save_threshold'] = 300\n",
    "\n",
    "# directory relatied\n",
    "args['save_directory'] = 'output'\n",
    "args['is_log'] = False\n",
    "args['logdir'] = './logs'\n",
    "args['best_model'] = 'model_1525721489_0.8618.t7'\n",
    "args['cuda'] = torch.cuda.is_available()\n",
    "\n",
    "args['is_load'] = False\n",
    "args['mode'] = 'train' # 'train', 'infer', 'test'\n",
    "args = helper.parser(args)\n",
    "# %lprun -f Trainer.train -u 1 main(args)"
   ]
  },
  {
   "cell_type": "markdown",
   "metadata": {},
   "source": [
    "### Load Data\n",
    "\n",
    "The original data crawled from Wave is orgainzed as per hour and per Census Tract, which is not suitable for our machine learning algorithm. We want to combine Census Tracts and add some useful static Tract data in it. Besides that, normalize is a really important technique, which should be applied."
   ]
  },
  {
   "cell_type": "code",
   "execution_count": 31,
   "metadata": {
    "scrolled": false
   },
   "outputs": [],
   "source": [
    "import pandas as pd\n",
    "df = pd.read_pickle('./Chicage_data.p')\n",
    "static = np.load('./Chicage_static.npy')\n",
    "n = []\n",
    "for d in df.groupby(['order']):\n",
    "    # for every hour, their is an distinct 'order' column behaves as 'id'\n",
    "    tmp = d[1].sort_values(['ct']).drop(['ct', 'order', 'outlook', 'alert_count'], axis=1)\n",
    "    tmp['time'] = tmp['time'].dt.hour\n",
    "    n.append(tmp)\n",
    "\n",
    "# convert list to np.ndarray\n",
    "ns = np.array([np.asarray(i) for i in n]).transpose((0, 2, 1))\n",
    "\n",
    "# add part of static features\n",
    "ns = np.array([np.concatenate([n, static[:,[1, 3, -1]].T], axis=0) for n in ns])\n",
    "# normalize\n",
    "ns = (ns - ns.mean(axis=-1, keepdims=True)) / (ns.max(axis=-1, keepdims=True) + 1e-5)"
   ]
  },
  {
   "cell_type": "markdown",
   "metadata": {},
   "source": [
    "### Make Label\n",
    "Here we define our label is: the alert_level of the whole city. It is separated to 5 level:\n",
    "- Level 1: alert count from 1~99\n",
    "- Level 2: alert count from 100~199\n",
    "- Level 3: alert count from 200~249\n",
    "- Level 4: alert count from 250~350\n",
    "- Level 5: alert count from 351~500"
   ]
  },
  {
   "cell_type": "code",
   "execution_count": 32,
   "metadata": {},
   "outputs": [],
   "source": [
    "labels = np.array([np.asarray(d[1]['alert_count']) for d in df.groupby(['order'])])\n",
    "labels = labels.sum(-1)\n",
    "level_labels = []\n",
    "for i, l in enumerate(labels):\n",
    "    if l > 500:\n",
    "        level_labels.append(4)\n",
    "    elif l > 350:\n",
    "        level_labels.append(3)\n",
    "    elif l > 200:\n",
    "        level_labels.append(2)\n",
    "    elif l > 100:\n",
    "        level_labels.append(1)\n",
    "    else:\n",
    "        level_labels.append(0)\n",
    "level_labels = np.array(level_labels)"
   ]
  },
  {
   "cell_type": "code",
   "execution_count": 33,
   "metadata": {
    "scrolled": false
   },
   "outputs": [
    {
     "data": {
      "image/png": "[encoded data removed]",
      "text/plain": [
       "<matplotlib.figure.Figure at 0x7f96575190f0>"
      ]
     },
     "metadata": {},
     "output_type": "display_data"
    }
   ],
   "source": [
    "plt.plot(level_labels)\n",
    "plt.show()"
   ]
  },
  {
   "cell_type": "code",
   "execution_count": 34,
   "metadata": {},
   "outputs": [],
   "source": [
    "raw_dev_data = ns # data_count, feature_size, blocks\n",
    "raw_dev_label = level_labels"
   ]
  },
  {
   "cell_type": "code",
   "execution_count": 35,
   "metadata": {},
   "outputs": [],
   "source": [
    "class BlockDataset(Dataset):\n",
    "    def __init__(self, datas, labels, test=False):\n",
    "        super().__init__()\n",
    "        if test or labels is None:\n",
    "            labels = [np.zeros(1, dtype=np.int32) for _ in datas]\n",
    "\n",
    "        self.datas = [to_tensor(d) for d in datas]\n",
    "        self.labels = to_tensor(labels)\n",
    "        self.len = len(datas)\n",
    "\n",
    "    def __getitem__(self, index):\n",
    "        return self.datas[index], self.labels[index]\n",
    "\n",
    "    def __len__(self):\n",
    "        return self.len"
   ]
  },
  {
   "cell_type": "markdown",
   "metadata": {},
   "source": [
    "### CNN Model\n",
    "The model is really simple, but it works for the dataset.\n",
    "\n",
    "First is a sequence of feature detector, followed by a classifier. In feature detector, we use 3 1D Convolution Layer, LeakyReLU and MaxPooling."
   ]
  },
  {
   "cell_type": "code",
   "execution_count": 36,
   "metadata": {},
   "outputs": [],
   "source": [
    "class CNN(nn.Module):\n",
    "    def __init__(self, in_channels=3, num_classes=10):\n",
    "        super().__init__()\n",
    "        self.seq = nn.Sequential(\n",
    "            nn.Conv1d(in_channels, 256, kernel_size=3, stride=1, padding=1),\n",
    "            nn.LeakyReLU(),\n",
    "            nn.MaxPool1d(kernel_size=2),\n",
    "            nn.Conv1d(256, 256, kernel_size=3, stride=1),\n",
    "            nn.LeakyReLU(),\n",
    "            nn.MaxPool1d(kernel_size=2),\n",
    "            nn.Conv1d(256, 256, kernel_size=3, stride=1),\n",
    "        )\n",
    "        self.classifier = nn.Sequential(\n",
    "            nn.Linear(256, num_classes),\n",
    "        )\n",
    "\n",
    "    def forward(self, input):\n",
    "        features =  self.seq(input)\n",
    "        features = torch.mean(features, dim=-1)\n",
    "        return self.classifier(features)"
   ]
  },
  {
   "cell_type": "markdown",
   "metadata": {},
   "source": [
    "### DataLoader\n",
    "In Pytorch, the data is often got from dataloader, here we define train loader and validation loader."
   ]
  },
  {
   "cell_type": "code",
   "execution_count": 38,
   "metadata": {},
   "outputs": [],
   "source": [
    "def get_dataloaders(args, Dataset, train, labels, test = None):\n",
    "    kwargs = {'num_workers': args.num_workers, 'pin_memory': True} if args.cuda else {}\n",
    "\n",
    "    train_dataset = Dataset(train, labels)\n",
    "    train_loader = DataLoader(\n",
    "        dataset=train_dataset,\n",
    "        batch_size=args.batch_size,\n",
    "        shuffle=args.shuffle,\n",
    "        **kwargs)\n",
    "    val_dataset = Dataset(train, labels)\n",
    "    val_loader = DataLoader(\n",
    "        dataset=val_dataset,\n",
    "        batch_size=args.val_batch_size,\n",
    "        shuffle=False,\n",
    "        **kwargs)\n",
    "        \n",
    "    train_size = len(train_dataset)\n",
    "    val_size = len(val_dataset)\n",
    "    return {\n",
    "        'train_loader': train_loader,\n",
    "        'train_size': train_size,\n",
    "        'val_loader': val_loader,\n",
    "        'val_size': val_size,\n",
    "        'test_loader': None, \n",
    "        'test_size': 0\n",
    "    }"
   ]
  },
  {
   "cell_type": "markdown",
   "metadata": {},
   "source": [
    "### Model Trainer"
   ]
  },
  {
   "cell_type": "code",
   "execution_count": 39,
   "metadata": {
    "code_folding": []
   },
   "outputs": [],
   "source": [
    "class Trainer(BaseTrainer):\n",
    "    def __init__(self, model, optimizer, scheduler, loss_fn, loader, args):\n",
    "        super().__init__(model, optimizer, scheduler, loss_fn, loader, args)\n",
    "    \n",
    "    def accuracy(self, pred, label_masked):\n",
    "        pred = pred.data.cpu().numpy().argmax(-1)\n",
    "        acc = np.abs(pred == label_masked.cpu().numpy()).sum() / label_masked.size(0)\n",
    "        return float(acc)\n",
    "    \n",
    "    def train(self, epoch):\n",
    "        batch_time = AverageMeter()\n",
    "        data_time = AverageMeter()\n",
    "        losses = AverageMeter()\n",
    "        correct = AverageMeter()\n",
    "\n",
    "        self.model.train()\n",
    "        end = time.time()\n",
    "    \n",
    "        for batch_idx, (features, labels) in enumerate(self.train_loader):\n",
    "            self.optimizer.zero_grad()\n",
    "            # measure data loading time\n",
    "            data_time.update(time.time() - end)\n",
    "            \n",
    "            prediction = self.model(to_variable(features).float())\n",
    "            loss = self.loss_fn(prediction, to_variable(labels))\n",
    "            loss.backward()\n",
    "            losses.update(loss.data.cpu()[0]/features.size(0)*0.6, features.size(0))\n",
    "            # compute gradient and take a baby step\n",
    "            clip_grad_norm(self.model.parameters(), args.clip)\n",
    "            self.optimizer.step()\n",
    "            # measure elapsed time\n",
    "            batch_time.update(time.time() - end)\n",
    "            end = time.time()\n",
    "\n",
    "            def post_print():\n",
    "                \"\"\"\n",
    "                It calculates accuracy and print pretty format log\n",
    "                \"\"\"\n",
    "                step = epoch * len(self.train_loader) + losses.count // self.args.batch_size\n",
    "\n",
    "                if batch_idx == 0:\n",
    "                    return True\n",
    "\n",
    "                if batch_idx % self.args.calc_acc_interval == 0:\n",
    "                    # calculate acc\n",
    "                    curr_correct = self.accuracy(prediction, labels)\n",
    "                    correct.update(curr_correct, features.size(0))\n",
    "                    self.logger.log_train_info(losses.avg, correct.avg, step)\n",
    "\n",
    "                if batch_idx % self.args.display_interval == 0:\n",
    "                    # display and log\n",
    "                    info = 'Epoch: [{0}][{1}/{2}]\\tTime {batch_time:2.2f}m\\tLoss {loss.val:.4f}[{loss.window_avg:.4f}]\\t'.format(\n",
    "                              epoch,\n",
    "                              batch_idx,\n",
    "                              len(self.train_loader),\n",
    "                              batch_time=batch_time.sum / 60,\n",
    "                              data_time=data_time,\n",
    "                              loss=losses)\n",
    "                    if batch_idx % self.args.calc_acc_interval == 0:\n",
    "                        acc_info = 'Acc {train_acc.val:.4f}[{train_acc.window_avg:.4f}]'.format(train_acc=correct)\n",
    "                        info += acc_info\n",
    "                    log.info(info)\n",
    "                return True\n",
    "            if not post_print():\n",
    "                break\n",
    "        return correct.window_avg, losses.window_avg\n",
    "\n",
    "    def inference(self):\n",
    "        global x\n",
    "        batch_time = AverageMeter()\n",
    "        correct = AverageMeter()\n",
    "        self.model.eval()\n",
    "        end = time.time()\n",
    "        losses = AverageMeter()\n",
    "        for batch_idx, (features, labels) in enumerate(self.val_loader):\n",
    "            prediction = self.model(to_variable(features).float())\n",
    "            loss = self.loss_fn(prediction, to_variable(labels))\n",
    "            losses.update(loss.data.cpu()[0]/features.size(0), features.size(0))\n",
    "            # measure accuracy\n",
    "            curr_correct = self.accuracy(prediction, labels)\n",
    "            correct.update(curr_correct, features.size(0))\n",
    "\n",
    "            #measure elapsed time\n",
    "            batch_time.update(time.time() - end)\n",
    "            end = time.time()\n",
    "            x.append(prediction.data.cpu().numpy())\n",
    "            if batch_idx == 0:\n",
    "                continue\n",
    "            if batch_idx % self.args.val_display_interval == 0:\n",
    "                info = '[{0}/{1}]\\tTime {batch_time:2.2f}m\\tAcc {val_acc.val:.4f}[{val_acc.avg:.4f}]\\tLoss {losses.val:.4f}[{losses.avg:.4f}]'.format(\n",
    "                      batch_idx,\n",
    "                      len(self.val_loader),\n",
    "                      batch_time=batch_time.sum / 60,\n",
    "                      val_acc=correct,\n",
    "                      losses=losses)\n",
    "                log.info(info)\n",
    "        return correct.avg, losses.avg\n",
    "    \n",
    "    def produce_test(self, res, epoch):\n",
    "        a = []\n",
    "        for d in df.groupby(['order']):\n",
    "            record = d[1].sort_values(['ct'])\n",
    "            m = (record['time'].iloc[0].strftime('%Y%m%d'), record['time'].iloc[0].strftime('%H'))\n",
    "            a.append(m)\n",
    "        nn = np.vstack(x).argmax(-1)\n",
    "        a = pd.DataFrame(a, columns=['date','hour'])\n",
    "        a['pred'] = nn\n",
    "        a.to_csv('stupid_weng.csv', index=False)"
   ]
  },
  {
   "cell_type": "markdown",
   "metadata": {},
   "source": [
    "### Exec\n",
    "Here is the place we execute our deep learning network. The loss function is CrossEntropyLoss, which is popular in classification task."
   ]
  },
  {
   "cell_type": "code",
   "execution_count": 40,
   "metadata": {
    "code_folding": [],
    "scrolled": false
   },
   "outputs": [
    {
     "name": "stderr",
     "output_type": "stream",
     "text": [
      "train size: 3928, val size: 3928\n",
      "begin training...\n",
      "Epoch: [0][100/246]\tTime 0.63m\tLoss 0.0693[0.0496]\tAcc 0.3750[0.7275]\n",
      "Epoch: [0][200/246]\tTime 1.20m\tLoss 0.0485[0.0453]\tAcc 0.6562[0.6900]\n",
      "[50/123]\tTime 0.16m\tAcc 0.5938[0.5153]\tLoss 0.0289[0.0371]\n",
      "[100/123]\tTime 0.32m\tAcc 0.5312[0.5507]\tLoss 0.0372[0.0349]\n",
      " * epoch [0]:\ttrain_loss 0.0425\ttrain_acc 0.8025\tval_loss 0.0350\tval_acc 0.5532\n"
     ]
    },
    {
     "name": "stdout",
     "output_type": "stream",
     "text": [
      "model saved output/model_1526085933_0.8025.t7, best_acc is 0.802500\n"
     ]
    },
    {
     "name": "stderr",
     "output_type": "stream",
     "text": [
      "Epoch: [1][100/246]\tTime 0.58m\tLoss 0.0407[0.0466]\tAcc 0.7500[0.6863]\n",
      "Epoch: [1][200/246]\tTime 1.13m\tLoss 0.0410[0.0413]\tAcc 0.9375[0.8025]\n",
      "[50/123]\tTime 0.16m\tAcc 0.4062[0.5870]\tLoss 0.0342[0.0326]\n",
      "[100/123]\tTime 0.32m\tAcc 0.4688[0.5254]\tLoss 0.0397[0.0338]\n",
      " * epoch [1]:\ttrain_loss 0.0397\ttrain_acc 0.8363\tval_loss 0.0342\tval_acc 0.5193\n"
     ]
    },
    {
     "name": "stdout",
     "output_type": "stream",
     "text": [
      "model saved output/model_1526086039_0.8363.t7, best_acc is 0.836250\n"
     ]
    },
    {
     "name": "stderr",
     "output_type": "stream",
     "text": [
      "Epoch: [2][100/246]\tTime 0.62m\tLoss 0.0524[0.0416]\tAcc 0.8438[0.7913]\n",
      "Epoch: [2][200/246]\tTime 1.19m\tLoss 0.0402[0.0397]\tAcc 0.7500[0.8175]\n",
      "[50/123]\tTime 0.16m\tAcc 0.4062[0.5766]\tLoss 0.0306[0.0322]\n",
      "[100/123]\tTime 0.33m\tAcc 0.5312[0.5266]\tLoss 0.0374[0.0325]\n",
      " * epoch [2]:\ttrain_loss 0.0436\ttrain_acc 0.7913\tval_loss 0.0328\tval_acc 0.5224\n"
     ]
    },
    {
     "name": "stdout",
     "output_type": "stream",
     "text": [
      "model saved output/model_1526086150_0.7913.t7, best_acc is 0.836250\n"
     ]
    },
    {
     "name": "stderr",
     "output_type": "stream",
     "text": [
      "Epoch: [3][100/246]\tTime 0.62m\tLoss 0.0615[0.0433]\tAcc 0.5625[0.7350]\n",
      "Epoch: [3][200/246]\tTime 1.28m\tLoss 0.0398[0.0400]\tAcc 0.8438[0.8325]\n",
      "[50/123]\tTime 0.21m\tAcc 0.5312[0.5558]\tLoss 0.0286[0.0328]\n",
      "[100/123]\tTime 0.37m\tAcc 0.4688[0.5427]\tLoss 0.0354[0.0318]\n",
      " * epoch [3]:\ttrain_loss 0.0435\ttrain_acc 0.7650\tval_loss 0.0320\tval_acc 0.5446\n"
     ]
    },
    {
     "name": "stdout",
     "output_type": "stream",
     "text": [
      "model saved output/model_1526086271_0.7650.t7, best_acc is 0.836250\n"
     ]
    },
    {
     "name": "stderr",
     "output_type": "stream",
     "text": [
      "Epoch: [4][100/246]\tTime 0.66m\tLoss 0.0377[0.0437]\tAcc 0.9375[0.7087]\n",
      "Epoch: [4][200/246]\tTime 1.30m\tLoss 0.0396[0.0409]\tAcc 0.6562[0.8287]\n",
      "[50/123]\tTime 0.16m\tAcc 0.5938[0.5453]\tLoss 0.0295[0.0331]\n",
      "[100/123]\tTime 0.32m\tAcc 0.4688[0.5424]\tLoss 0.0353[0.0318]\n",
      " * epoch [4]:\ttrain_loss 0.0394\ttrain_acc 0.8213\tval_loss 0.0320\tval_acc 0.5448\n"
     ]
    },
    {
     "name": "stdout",
     "output_type": "stream",
     "text": [
      "model saved output/model_1526086387_0.8213.t7, best_acc is 0.836250\n"
     ]
    }
   ],
   "source": [
    "x = []\n",
    "def main(args):\n",
    "    loader = get_dataloaders(args, BlockDataset, raw_dev_data, raw_dev_label)\n",
    "    model = CNN(in_channels=9, num_classes=5)\n",
    "    optimizer = torch.optim.Adam(model.parameters(), lr = args.lr, weight_decay=args.wd)\n",
    "    scheduler = StepLR(optimizer, step_size=5, gamma=0.6)\n",
    "    loss_fn = nn.CrossEntropyLoss()\n",
    "    trainer = Trainer(model, optimizer, scheduler, loss_fn, loader, args)\n",
    "    trainer.run(args.epochs)\n",
    "\n",
    "main(args)"
   ]
  },
  {
   "cell_type": "markdown",
   "metadata": {},
   "source": [
    "### SVM\n",
    "In order to get to know how well our system is, we write following code, and try to predict using SVM, the result shows that, our model is much higher than SVM, which should be brought by cnn as detector and the non-linearity of neural network"
   ]
  },
  {
   "cell_type": "code",
   "execution_count": 45,
   "metadata": {},
   "outputs": [
    {
     "name": "stdout",
     "output_type": "stream",
     "text": [
      "The prediction of SVM is :  0.41\n"
     ]
    }
   ],
   "source": [
    "from sklearn.svm import SVC\n",
    "clf = SVC()\n",
    "clf.fit(raw_dev_data[:-100].reshape(-1, 795*9), raw_dev_label[:-100])\n",
    "res = clf.predict(raw_dev_data[-100:].reshape(-1, 795*9))\n",
    "print('The prediction of SVM is : ', np.mean(res == raw_dev_label[-100:]))"
   ]
  },
  {
   "cell_type": "markdown",
   "metadata": {},
   "source": [
    "## Visualization\n",
    "\n",
    "After extracted all these features and predicted the result, we built a visualization demo system to better present our results.\n",
    "\n",
    "### Features and Encoding\n",
    "\n",
    "We used 9 features to train our predict model. Some of them are encoded with the color shade, for example, darker color represents larger value in quantity; Some are inherently encoded like the area of census tracts; Some are adjustable by dragging slider bars, such as time and hour. Finally the predicted alert level is encoded by both colors and lengths;\n",
    "\n",
    "### Examples\n",
    "\n",
    "Below we provide a couple of demo examples of the visualization. Generally, the map in the middle shows the distributions of features and the bar on the right show the current alert level at the given time. Users can change the time with two sliders on the bottom, which represent date and hour respectively.\n",
    "\n",
    "Firstly, by clicking different feature buttons, the map will display correspondingly. \n",
    "\n",
    "![user density](https://image.ibb.co/grm28y/688_1.png)\n",
    "\n",
    "Currently it shows the user density and we can change it to show the speed of cars.\n",
    "\n",
    "![speed](https://image.ibb.co/kgwDFd/688_2.png)\n",
    "\n",
    "Also we can see the result of different day and hours, by dragging the slider bars.\n",
    "\n",
    "![time](https://image.ibb.co/jCizoy/688_3.png)\n"
   ]
  },
  {
   "cell_type": "markdown",
   "metadata": {},
   "source": [
    "## Future work\n",
    "\n",
    "First, as you may notice, the data we collected is quite sparse which limits our prediction. Therefore we want to find other data sources with richer content so that we can predict the traffic alert level with smaller geographic granularity. \n",
    "\n",
    "Second, although we have tried some different metrics already, the features we chose to train and to predict could be further pruned. And with more data we collect, more hidden correlation may be revealed by this kind of attempts.\n",
    "\n",
    "Besides, some alternate learning methods, like GAN, RNN, are also worth trying to optimizing our results. "
   ]
  }
 ],
 "metadata": {
  "kernelspec": {
   "display_name": "Environment (conda_python3)",
   "language": "python",
   "name": "conda_python3"
  },
  "language_info": {
   "codemirror_mode": {
    "name": "ipython",
    "version": 3
   },
   "file_extension": ".py",
   "mimetype": "text/x-python",
   "name": "python",
   "nbconvert_exporter": "python",
   "pygments_lexer": "ipython3",
   "version": "3.6.3"
  }
 },
 "nbformat": 4,
 "nbformat_minor": 2
}
